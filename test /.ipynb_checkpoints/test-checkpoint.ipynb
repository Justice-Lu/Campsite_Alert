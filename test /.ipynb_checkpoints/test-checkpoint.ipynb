{
 "cells": [
  {
   "cell_type": "code",
   "execution_count": 24,
   "id": "74b563fe",
   "metadata": {},
   "outputs": [],
   "source": [
    "import time \n",
    "import pandas as pd \n",
    "import numpy as np\n",
    "import sys\n",
    "import argparse\n",
    "import importlib\n",
    "\n",
    "import Campsite_Alert_functions as campsite_function "
   ]
  },
  {
   "cell_type": "code",
   "execution_count": 25,
   "id": "bebc9847",
   "metadata": {},
   "outputs": [
    {
     "data": {
      "text/plain": [
       "<module 'Campsite_Alert_functions' from '/Users/justice/Documents/github_site/Campsite_Alert/test /Campsite_Alert_functions.py'>"
      ]
     },
     "execution_count": 25,
     "metadata": {},
     "output_type": "execute_result"
    }
   ],
   "source": [
    "importlib.reload(campsite_function)"
   ]
  },
  {
   "cell_type": "code",
   "execution_count": 26,
   "id": "657b9d21",
   "metadata": {},
   "outputs": [],
   "source": [
    "start_date = \"2022-03-10\"\n",
    "end_date = \"2022-03-30\"\n",
    "park_id = 232447\n",
    "campsite = ['047']\n",
    "cycle_time = 1\n",
    "total_time = 1"
   ]
  },
  {
   "cell_type": "code",
   "execution_count": 57,
   "id": "edbd4143",
   "metadata": {},
   "outputs": [],
   "source": [
    "campsite = None"
   ]
  },
  {
   "cell_type": "code",
   "execution_count": null,
   "id": "4295d379",
   "metadata": {
    "scrolled": true
   },
   "outputs": [],
   "source": [
    "start_time = time.time()\n",
    "\n",
    "while True:\n",
    "    current_time = time.time()\n",
    "    elapsed_time = round(current_time - start_time,0)\n",
    "    time.sleep(cycle_time - time.time() % cycle_time)\n",
    "\n",
    "    #inputs start_date at day 01 as that's the format that recreational.gov accepts. Filter dates lateron\n",
    "    url = campsite_function.get_url(start_date[0:8]+\"01\", park_id)\n",
    "    website = campsite_function.get_website(url)\n",
    "    \n",
    "    dates = campsite_function.my_dates(start_date, end_date) \n",
    "    available_dates = campsite_function.get_available_dates(website)\n",
    "    compatible_dates = campsite_function.filter_by_dates(available_dates, dates)\n",
    "    compatible_dates = campsite_function.filter_by_campsite(compatible_dates, campsite)\n",
    "    \n",
    "    output = campsite_function.print_results(compatible_dates, start_date, end_date, park_id)    \n",
    "    print(output)\n",
    "    \n",
    "    \n",
    "    if elapsed_time > total_time*60:\n",
    "        print(\"Finished iterating in: \" + str(int(elapsed_time))  + \" seconds \\n script stopped\")\n",
    "        break"
   ]
  },
  {
   "cell_type": "code",
   "execution_count": 33,
   "id": "e6f80aff",
   "metadata": {},
   "outputs": [
    {
     "data": {
      "text/plain": [
       "['2022-03-10',\n",
       " '2022-03-11',\n",
       " '2022-03-12',\n",
       " '2022-03-13',\n",
       " '2022-03-14',\n",
       " '2022-03-15',\n",
       " '2022-03-16',\n",
       " '2022-03-17',\n",
       " '2022-03-18',\n",
       " '2022-03-19',\n",
       " '2022-03-20',\n",
       " '2022-03-21',\n",
       " '2022-03-22',\n",
       " '2022-03-23',\n",
       " '2022-03-24',\n",
       " '2022-03-25',\n",
       " '2022-03-26',\n",
       " '2022-03-27',\n",
       " '2022-03-28',\n",
       " '2022-03-29']"
      ]
     },
     "execution_count": 33,
     "metadata": {},
     "output_type": "execute_result"
    }
   ],
   "source": [
    "dates"
   ]
  },
  {
   "cell_type": "code",
   "execution_count": 32,
   "id": "65587db7",
   "metadata": {},
   "outputs": [
    {
     "data": {
      "text/plain": [
       "{'047': ['2022-03-03']}"
      ]
     },
     "execution_count": 32,
     "metadata": {},
     "output_type": "execute_result"
    }
   ],
   "source": [
    "compatible_dates"
   ]
  },
  {
   "cell_type": "code",
   "execution_count": null,
   "id": "a7ee7329",
   "metadata": {},
   "outputs": [],
   "source": []
  },
  {
   "cell_type": "code",
   "execution_count": null,
   "id": "98d63a66",
   "metadata": {},
   "outputs": [],
   "source": []
  },
  {
   "cell_type": "code",
   "execution_count": null,
   "id": "dade0ff8",
   "metadata": {},
   "outputs": [],
   "source": []
  }
 ],
 "metadata": {
  "kernelspec": {
   "display_name": "Python 3 (ipykernel)",
   "language": "python",
   "name": "python3"
  },
  "language_info": {
   "codemirror_mode": {
    "name": "ipython",
    "version": 3
   },
   "file_extension": ".py",
   "mimetype": "text/x-python",
   "name": "python",
   "nbconvert_exporter": "python",
   "pygments_lexer": "ipython3",
   "version": "3.8.8"
  }
 },
 "nbformat": 4,
 "nbformat_minor": 5
}
