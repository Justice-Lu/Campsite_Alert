{
 "cells": [
  {
   "cell_type": "code",
   "execution_count": 24,
   "id": "74b563fe",
   "metadata": {},
   "outputs": [],
   "source": [
    "import time \n",
    "import pandas as pd \n",
    "import numpy as np\n",
    "import sys\n",
    "import argparse\n",
    "import importlib\n",
    "\n",
    "import Campsite_Alert_functions as campsite_function "
   ]
  },
  {
   "cell_type": "code",
   "execution_count": 25,
   "id": "bebc9847",
   "metadata": {},
   "outputs": [
    {
     "data": {
      "text/plain": [
       "<module 'Campsite_Alert_functions' from '/Users/justice/Documents/github_site/Campsite_Alert/test /Campsite_Alert_functions.py'>"
      ]
     },
     "execution_count": 25,
     "metadata": {},
     "output_type": "execute_result"
    }
   ],
   "source": [
    "importlib.reload(campsite_function)"
   ]
  },
  {
   "cell_type": "code",
   "execution_count": 46,
   "id": "657b9d21",
   "metadata": {},
   "outputs": [],
   "source": [
    "start_date = \"2022-03-10\"\n",
    "end_date = \"2022-03-30\"\n",
    "park_id = 232447\n",
    "campsite = ['047']\n",
    "cycle_time = 1\n",
    "total_time = 1"
   ]
  },
  {
   "cell_type": "code",
   "execution_count": 43,
   "id": "edbd4143",
   "metadata": {},
   "outputs": [],
   "source": [
    "park_id = 10004152\n",
    "campsite = None"
   ]
  },
  {
   "cell_type": "code",
   "execution_count": null,
   "id": "4295d379",
   "metadata": {
    "scrolled": false
   },
   "outputs": [],
   "source": [
    "start_time = time.time()\n",
    "\n",
    "while True:\n",
    "    current_time = time.time()\n",
    "    elapsed_time = round(current_time - start_time,0)\n",
    "    time.sleep(cycle_time - time.time() % cycle_time)\n",
    "\n",
    "    #inputs start_date at day 01 as that's the format that recreational.gov accepts. Filter dates lateron\n",
    "    url = campsite_function.get_url(start_date[0:8]+\"01\", park_id)\n",
    "    website = campsite_function.get_website(url)\n",
    "    \n",
    "    dates = campsite_function.my_dates(start_date, end_date) \n",
    "    available_dates = campsite_function.get_available_dates(website)\n",
    "    compatible_dates = campsite_function.filter_by_dates(available_dates, dates)\n",
    "    compatible_dates = campsite_function.filter_by_campsite(compatible_dates, campsite)\n",
    "    \n",
    "    output = campsite_function.print_results(compatible_dates, start_date, end_date, park_id)    \n",
    "    print(output)\n",
    "    \n",
    "    \n",
    "    if elapsed_time > total_time*60:\n",
    "        print(\"Finished iterating in: \" + str(int(elapsed_time))  + \" seconds \\n script stopped\")\n",
    "        break"
   ]
  },
  {
   "cell_type": "code",
   "execution_count": null,
   "id": "3fe3db46",
   "metadata": {},
   "outputs": [],
   "source": []
  },
  {
   "cell_type": "code",
   "execution_count": 51,
   "id": "d21fd0c1",
   "metadata": {},
   "outputs": [
    {
     "name": "stdout",
     "output_type": "stream",
     "text": [
      "['In', 'Out', '_', '_25', '_29', '_30', '_32', '_33', '_34', '_38', '_39', '_40', '_41', '_42', '_45', '_48', '__', '___', '__builtin__', '__builtins__', '__doc__', '__loader__', '__name__', '__package__', '__spec__', '_dh', '_i', '_i1', '_i10', '_i11', '_i12', '_i13', '_i14', '_i15', '_i16', '_i17', '_i18', '_i19', '_i2', '_i20', '_i21', '_i22', '_i23', '_i24', '_i25', '_i26', '_i27', '_i28', '_i29', '_i3', '_i30', '_i31', '_i32', '_i33', '_i34', '_i35', '_i36', '_i37', '_i38', '_i39', '_i4', '_i40', '_i41', '_i42', '_i43', '_i44', '_i45', '_i46', '_i47', '_i48', '_i49', '_i5', '_i50', '_i51', '_i6', '_i7', '_i8', '_i9', '_ih', '_ii', '_iii', '_oh', 'argparse', 'available_dates', 'campsite', 'campsite_function', 'compatible_dates', 'current_time', 'cycle_time', 'dates', 'elapsed_time', 'end_date', 'exit', 'get_ipython', 'importlib', 'np', 'output', 'park_id', 'pd', 'quit', 'start_date', 'start_time', 'sys', 'time', 'total_time', 'url', 'website']\n"
     ]
    }
   ],
   "source": [
    "print(dir())"
   ]
  },
  {
   "cell_type": "code",
   "execution_count": null,
   "id": "dade0ff8",
   "metadata": {},
   "outputs": [],
   "source": []
  }
 ],
 "metadata": {
  "kernelspec": {
   "display_name": "Python 3 (ipykernel)",
   "language": "python",
   "name": "python3"
  },
  "language_info": {
   "codemirror_mode": {
    "name": "ipython",
    "version": 3
   },
   "file_extension": ".py",
   "mimetype": "text/x-python",
   "name": "python",
   "nbconvert_exporter": "python",
   "pygments_lexer": "ipython3",
   "version": "3.8.8"
  }
 },
 "nbformat": 4,
 "nbformat_minor": 5
}
