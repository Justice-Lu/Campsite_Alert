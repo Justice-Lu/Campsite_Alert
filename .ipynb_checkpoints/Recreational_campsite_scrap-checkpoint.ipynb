{
 "cells": [
  {
   "cell_type": "code",
   "execution_count": 151,
   "id": "e8f04db3",
   "metadata": {},
   "outputs": [],
   "source": [
    "import pandas as pd \n",
    "import numpy as np\n",
    "import requests \n",
    "# import datetime\n",
    "import re \n",
    "import time \n",
    "import datetime \n",
    "from fake_useragent import UserAgent\n",
    "import argparse"
   ]
  },
  {
   "cell_type": "markdown",
   "id": "9a3c1662",
   "metadata": {},
   "source": [
    "This vignette seeks to scrap for recreational website for available campsites reservations\n",
    "The scripts should update at x time and notify when y is open for reservation"
   ]
  },
  {
   "cell_type": "code",
   "execution_count": 148,
   "id": "540e1b3f",
   "metadata": {},
   "outputs": [],
   "source": [
    "# Given the start / end date, generate a date vector containing all the dates in between \n",
    "start_date = \"2022-03-01\"\n",
    "end_date = \"2022-03-05\"\n",
    "park_id = 232447\n",
    "campsite = ['061', '063', '101']\n"
   ]
  },
  {
   "cell_type": "code",
   "execution_count": 128,
   "id": "de15767f",
   "metadata": {},
   "outputs": [],
   "source": [
    "def get_url(start_date, park_id):\n",
    "    url_base = \"https://www.recreation.gov/api/camps/availability/campground/{park_id}/month?start_date=\"\n",
    "    url_date_end = start_date + \"T00%3A00%3A00.000Z\"\n",
    "    url = url_base.format(park_id = park_id) + url_date_end\n",
    "    return url"
   ]
  },
  {
   "cell_type": "code",
   "execution_count": 129,
   "id": "46ffd7c2",
   "metadata": {},
   "outputs": [],
   "source": [
    "def get_website(url):\n",
    "    headers = {\"user-agent\": UserAgent().random}\n",
    "    reponse = requests.get(url, headers=headers)\n",
    "    website = reponse.json()['campsites']\n",
    "    return website"
   ]
  },
  {
   "cell_type": "code",
   "execution_count": 143,
   "id": "191eba34",
   "metadata": {},
   "outputs": [],
   "source": [
    "def my_dates(start_date, end_date):\n",
    "    dates = []\n",
    "    start = datetime.datetime.strptime(start_date, \"%Y-%m-%d\")\n",
    "    end = datetime.datetime.strptime(end_date, \"%Y-%m-%d\")\n",
    "    date_array = (start + datetime.timedelta(days=x) for x in range(0, (end-start).days))\n",
    "    for date_object in date_array:\n",
    "        dates.append(date_object.strftime(\"%Y-%m-%d\"))\n",
    "    return dates"
   ]
  },
  {
   "cell_type": "code",
   "execution_count": 131,
   "id": "7c68d22f",
   "metadata": {},
   "outputs": [],
   "source": [
    "# Create available_dates dict which holds campsite: [dates available]\n",
    "def get_available_dates(website):\n",
    "    available_dates = {}\n",
    "    for campsite in website.keys():\n",
    "        site_id = website[campsite]['site']\n",
    "        available_dates[site_id] = [] #assigns actual site_id \n",
    "        for day in website[campsite]['availabilities'].keys():\n",
    "            if website[campsite]['availabilities'][day] == \"Available\":\n",
    "                available_dates[site_id].append(re.sub(\"T00:00:00Z\", \"\", day)) \n",
    "        if available_dates[site_id] == []:\n",
    "            del available_dates[site_id] # removes the campsite that have no available dates \n",
    "    return available_dates\n"
   ]
  },
  {
   "cell_type": "code",
   "execution_count": 132,
   "id": "b1987f93",
   "metadata": {},
   "outputs": [],
   "source": [
    "# Compatible_dates holds the dates that are available on website, and also within the specified dates\n",
    "def get_compatible_dates(available_dates, dates, campsite=[]):\n",
    "    compatible_dates = {}\n",
    "    for site_id in available_dates.keys():\n",
    "        if not campsite == []: # IF campsite is NOT empty \n",
    "            if not site_id in campsite: # IF site_id is not in campsite, then skip \n",
    "                continue\n",
    "        temp = [x for x in dates if x in available_dates[site_id]]\n",
    "        if not temp == []:\n",
    "            compatible_dates[site_id] = temp\n",
    "    return compatible_dates"
   ]
  },
  {
   "cell_type": "code",
   "execution_count": null,
   "id": "5f996625",
   "metadata": {},
   "outputs": [],
   "source": [
    "start_time = time.time()\n",
    "cycle_time_seconds = 3\n",
    "total_time_minutes = 0.1\n",
    "while True:\n",
    "    current_time = time.time()\n",
    "    elapsed_time = round(current_time - start_time,0)\n",
    "    time.sleep(cycle_time_seconds - time.time() % cycle_time_seconds)\n",
    "    \n",
    "#     print('Running, time = ' + str(elapsed_time))\n",
    "    \n",
    "    dates = my_dates(start_date, end_date)\n",
    "    url = get_url(start_date, park_id)\n",
    "    website = get_website(url)\n",
    "    available_dates = get_available_dates(website)\n",
    "    compatible_dates = get_compatible_dates(available_dates, dates, campsite=campsite)\n",
    "    \n",
    "    print(\"compatible dates and campsite \\n\" + str(compatible_dates))    \n",
    "    \n",
    "    if elapsed_time > total_time_minutes*60:\n",
    "        print(\"Finished iterating in: \" + str(int(elapsed_time))  + \" seconds \\n script stopped\")\n",
    "        break"
   ]
  },
  {
   "cell_type": "code",
   "execution_count": null,
   "id": "d99a4665",
   "metadata": {},
   "outputs": [],
   "source": []
  },
  {
   "cell_type": "code",
   "execution_count": null,
   "id": "0aa74731",
   "metadata": {},
   "outputs": [],
   "source": []
  }
 ],
 "metadata": {
  "kernelspec": {
   "display_name": "Python 3 (ipykernel)",
   "language": "python",
   "name": "python3"
  },
  "language_info": {
   "codemirror_mode": {
    "name": "ipython",
    "version": 3
   },
   "file_extension": ".py",
   "mimetype": "text/x-python",
   "name": "python",
   "nbconvert_exporter": "python",
   "pygments_lexer": "ipython3",
   "version": "3.8.8"
  }
 },
 "nbformat": 4,
 "nbformat_minor": 5
}
